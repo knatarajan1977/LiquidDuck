{
 "cells": [
  {
   "cell_type": "markdown",
   "id": "5365d1c1",
   "metadata": {},
   "source": [
    "# 1. Problem Statement\n",
    "\n",
    "- We use Union All clause to combine Sales data and their Goals measures in the same query to look at the data side by side.\n",
    "- In the Union queries, we use NULL as a placeholder for the columns that don't have equivalent values in its respective positional location.\n",
    "\n",
    "Example:\n",
    "\n",
    "SELECT SUPPLIER, BRAND, GROUPS, SALES_AMT, NULL GROUP_GOAL FROM SALES\n",
    "\n",
    "UNION ALL\n",
    "\n",
    "SELECT NULL, NULL, GROUPS, NULL, GROUP_GOAL FROM GROUPS_GOALS\n",
    "\n",
    "- We want the output of SALES records along with the Goals data side by side as columns. And, we don't want to show the GOALES records separately in the output.\n",
    "- To achieve this, we do group by on all dimensional columns and aggregate the metrics columns. \n",
    "- In addition to this, we want to rollup the data to every hierarchy level using GROUPING_SET. \n",
    "- This GROUPING_SET also applies NULL values to the dimensional columns when it rollsup the data. As a result, the dimensional columns will be duplicated as they also have NULL values due to the UNION queries we had at first place.\n",
    "\n",
    "#### How do we fix the duplicate issue in the resultset?"
   ]
  },
  {
   "cell_type": "markdown",
   "id": "88f3f06f",
   "metadata": {},
   "source": [
    "#### Below code is to setup the css configuration for better formatting of our SQL output"
   ]
  },
  {
   "cell_type": "code",
   "execution_count": 34,
   "id": "6190e0c5",
   "metadata": {},
   "outputs": [
    {
     "data": {
      "text/html": [
       "<style>\n",
       "div.output_area pre {\n",
       "    white-space: pre;\n",
       "}\n",
       "</style>\n"
      ],
      "text/plain": [
       "<IPython.core.display.HTML object>"
      ]
     },
     "metadata": {},
     "output_type": "display_data"
    }
   ],
   "source": [
    "%%html\n",
    "<style>\n",
    "div.output_area pre {\n",
    "    white-space: pre;\n",
    "}\n",
    "</style>"
   ]
  },
  {
   "cell_type": "code",
   "execution_count": 35,
   "id": "5a24c3a9",
   "metadata": {},
   "outputs": [],
   "source": [
    "import duckdb"
   ]
  },
  {
   "cell_type": "markdown",
   "id": "ee942893",
   "metadata": {},
   "source": [
    "### 2. Creating a Table at Supplier, Brand, Family, Group and Category levels with Sales Metrics. Inserting 4 records."
   ]
  },
  {
   "cell_type": "code",
   "execution_count": 36,
   "id": "7557db0f",
   "metadata": {},
   "outputs": [],
   "source": [
    "duckdb.sql (\"create or replace table sales (supplier varchar, brand varchar, family varchar, groups varchar, \\\n",
    "             category varchar, sales numeric(10,2))\")\n",
    "duckdb.sql (\"insert into sales values \\\n",
    "            ('Abc', 'Apple', 'Touch', '5G', 'Smart Phone', 100), \\\n",
    "            ('Abc', 'Asus', 'Touch', '4G', 'Smart Phone', 150), \\\n",
    "            ('Xyz', 'Samsung', 'Flip', '5G', 'Tablet', 200), \\\n",
    "            ('Xyz', 'Redmi', 'Touch', '4G', 'Smart Phone', 250)\")"
   ]
  },
  {
   "cell_type": "markdown",
   "id": "516a34d9",
   "metadata": {},
   "source": [
    "Creating a Table at Supplier level with Goals defined. Inserting 2 records."
   ]
  },
  {
   "cell_type": "code",
   "execution_count": 41,
   "id": "94fda0c7",
   "metadata": {},
   "outputs": [],
   "source": [
    "duckdb.sql (\"create or replace table supplier (supplier varchar, supplier_goals numeric (10,2))\")\n",
    "duckdb.sql (\"insert into supplier values ('Abc', 44444), ('Xyz', 55555)\")"
   ]
  },
  {
   "cell_type": "markdown",
   "id": "5aae9528",
   "metadata": {},
   "source": [
    "Creating a Table at Supplier & Brand Level with goals defined. Inserting 4 records."
   ]
  },
  {
   "cell_type": "code",
   "execution_count": 42,
   "id": "0ac88189",
   "metadata": {},
   "outputs": [],
   "source": [
    "duckdb.sql (\"create or replace table brand (supplier varchar, brand varchar, brand_goals numeric (10,2))\")\n",
    "duckdb.sql (\"insert into brand values ('Abc', 'Apple', 77777), ('Xyz', 'Samsung', 55111), \\\n",
    "            ('Abc', 'Asus', 22999), ('Xyz', 'Redmi', 11999)\")"
   ]
  },
  {
   "cell_type": "markdown",
   "id": "793cba7a",
   "metadata": {},
   "source": [
    "Creating a Table at Supplier, Brand & Family level with Goals defined. Inserting 4 records."
   ]
  },
  {
   "cell_type": "code",
   "execution_count": 43,
   "id": "187c4f1f",
   "metadata": {},
   "outputs": [],
   "source": [
    "duckdb.sql (\"create or replace table family (supplier varchar, brand varchar, family varchar, family_goals numeric (10,2))\")\n",
    "duckdb.sql (\"insert into family values ('Abc', 'Apple', 'Touch', 66666), ('Xyz', 'Samsung', 'Flip', 33333), \\\n",
    "            ('Abc', 'Asus', 'Touch', 22222), ('Xyz', 'Redmi', 'Touch', 11111)\")"
   ]
  },
  {
   "cell_type": "markdown",
   "id": "16256a6c",
   "metadata": {},
   "source": [
    "Creating a Table at Group going across all other goals tables, with Goals defined. Inserting 2 records."
   ]
  },
  {
   "cell_type": "code",
   "execution_count": 44,
   "id": "2e08d320",
   "metadata": {},
   "outputs": [],
   "source": [
    "duckdb.sql (\"create or replace table groups (groups varchar, group_goals numeric (10,2))\")\n",
    "duckdb.sql (\"insert into groups values ('4G', 44444), ('5G', 88888)\")"
   ]
  },
  {
   "cell_type": "markdown",
   "id": "093ced53",
   "metadata": {},
   "source": [
    "Creating a Table at category going across all other goals tables, with Goals defined. Inserting 2 records."
   ]
  },
  {
   "cell_type": "code",
   "execution_count": 45,
   "id": "730322a8",
   "metadata": {},
   "outputs": [],
   "source": [
    "duckdb.sql (\"create or replace table category (category varchar, cat_goals numeric (10,2))\")\n",
    "duckdb.sql (\"insert into category values ('Smart Phone', 99999), ('Tablet', 33777)\")"
   ]
  },
  {
   "cell_type": "markdown",
   "id": "8bfa6d20",
   "metadata": {},
   "source": [
    "### 3. Showing data from alll the tables"
   ]
  },
  {
   "cell_type": "code",
   "execution_count": 46,
   "id": "ec953807",
   "metadata": {},
   "outputs": [
    {
     "name": "stdout",
     "output_type": "stream",
     "text": [
      "┌──────────┬─────────┬─────────┬─────────┬─────────────┬───────────────┐\n",
      "│ supplier │  brand  │ family  │ groups  │  category   │     sales     │\n",
      "│ varchar  │ varchar │ varchar │ varchar │   varchar   │ decimal(10,2) │\n",
      "├──────────┼─────────┼─────────┼─────────┼─────────────┼───────────────┤\n",
      "│ Abc      │ Apple   │ Touch   │ 5G      │ Smart Phone │        100.00 │\n",
      "│ Abc      │ Asus    │ Touch   │ 4G      │ Smart Phone │        150.00 │\n",
      "│ Xyz      │ Samsung │ Flip    │ 5G      │ Tablet      │        200.00 │\n",
      "│ Xyz      │ Redmi   │ Touch   │ 4G      │ Smart Phone │        250.00 │\n",
      "└──────────┴─────────┴─────────┴─────────┴─────────────┴───────────────┘\n",
      "\n",
      "┌──────────┬────────────────┐\n",
      "│ supplier │ supplier_goals │\n",
      "│ varchar  │ decimal(10,2)  │\n",
      "├──────────┼────────────────┤\n",
      "│ Abc      │       44444.00 │\n",
      "│ Xyz      │       55555.00 │\n",
      "└──────────┴────────────────┘\n",
      "\n",
      "┌──────────┬─────────┬───────────────┐\n",
      "│ supplier │  brand  │  brand_goals  │\n",
      "│ varchar  │ varchar │ decimal(10,2) │\n",
      "├──────────┼─────────┼───────────────┤\n",
      "│ Abc      │ Apple   │      77777.00 │\n",
      "│ Xyz      │ Samsung │      55111.00 │\n",
      "│ Abc      │ Asus    │      22999.00 │\n",
      "│ Xyz      │ Redmi   │      11999.00 │\n",
      "└──────────┴─────────┴───────────────┘\n",
      "\n",
      "┌──────────┬─────────┬─────────┬───────────────┐\n",
      "│ supplier │  brand  │ family  │ family_goals  │\n",
      "│ varchar  │ varchar │ varchar │ decimal(10,2) │\n",
      "├──────────┼─────────┼─────────┼───────────────┤\n",
      "│ Abc      │ Apple   │ Touch   │      66666.00 │\n",
      "│ Xyz      │ Samsung │ Flip    │      33333.00 │\n",
      "│ Abc      │ Asus    │ Touch   │      22222.00 │\n",
      "│ Xyz      │ Redmi   │ Touch   │      11111.00 │\n",
      "└──────────┴─────────┴─────────┴───────────────┘\n",
      "\n",
      "┌─────────┬───────────────┐\n",
      "│ groups  │  group_goals  │\n",
      "│ varchar │ decimal(10,2) │\n",
      "├─────────┼───────────────┤\n",
      "│ 4G      │      44444.00 │\n",
      "│ 5G      │      88888.00 │\n",
      "└─────────┴───────────────┘\n",
      "\n",
      "┌─────────────┬───────────────┐\n",
      "│  category   │   cat_goals   │\n",
      "│   varchar   │ decimal(10,2) │\n",
      "├─────────────┼───────────────┤\n",
      "│ Smart Phone │      99999.00 │\n",
      "│ Tablet      │      33777.00 │\n",
      "└─────────────┴───────────────┘\n",
      "\n"
     ]
    }
   ],
   "source": [
    "duckdb.sql (\"from sales\").show()\n",
    "duckdb.sql (\"from supplier\").show()\n",
    "duckdb.sql (\"from brand\").show()\n",
    "duckdb.sql (\"from family\").show()\n",
    "duckdb.sql (\"from groups\").show()\n",
    "duckdb.sql (\"from category\").show()"
   ]
  },
  {
   "cell_type": "markdown",
   "id": "b7abf36c",
   "metadata": {},
   "source": [
    "### 4. Union all tables augmenting the columns to each other. I have given NULL for dimensional columns in the UNION queries other than first query"
   ]
  },
  {
   "cell_type": "code",
   "execution_count": 47,
   "id": "b54b2edb",
   "metadata": {},
   "outputs": [],
   "source": [
    "duckdb.sql (\"create or replace table union1 as \\\n",
    "             select supplier, brand, family, groups, category, sales, null supplier_goals, null brand_goals, \\\n",
    "             null family_goals, null group_goals, null cat_goals from sales \\\n",
    "             union all \\\n",
    "             select supplier, NULL brand, NULL as family, NULL as groups, NULL as category, NULL as sales, supplier_goals, \\\n",
    "             NULL as brand_goals, NULL family_goals, null group_goals, null cat_goals from supplier \\\n",
    "             union all \\\n",
    "             select supplier, brand, NULL as family, NULL as groups, NULL as category, NULL as sales, NULL as supplier_goals, \\\n",
    "             brand_goals, NULL family_goals, null group_goals, null cat_goals from brand \\\n",
    "             union all \\\n",
    "             select supplier, brand, family, NULL as groups, NULL as category, NULL as sales, null as supplier_goals, \\\n",
    "             NULL as brand_goals, family_goals, null group_goals, null cat_goals from family \\\n",
    "             union all \\\n",
    "             select null as supplier, null as brand, null as family, groups, NULL as category, NULL as sales, \\\n",
    "             null as supplier_goals, NULL as brand_goals, null as family_goals, group_goals, null cat_goals from groups \\\n",
    "             union all \\\n",
    "             select null as supplier, null as brand, null as family, NULL as groups, category, NULL as sales, \\\n",
    "             null as supplier_goals, NULL as brand_goals, null as family_goals, \\\n",
    "             null as group_goals, cat_goals from category\")"
   ]
  },
  {
   "cell_type": "code",
   "execution_count": 48,
   "id": "ce7edcff",
   "metadata": {},
   "outputs": [
    {
     "name": "stdout",
     "output_type": "stream",
     "text": [
      "┌──────────┬─────────┬─────────┬─────────┬─────────────┬───────────────┬────────────────┬───────────────┬───────────────┬───────────────┬───────────────┐\n",
      "│ supplier │  brand  │ family  │ groups  │  category   │     sales     │ supplier_goals │  brand_goals  │ family_goals  │  group_goals  │   cat_goals   │\n",
      "│ varchar  │ varchar │ varchar │ varchar │   varchar   │ decimal(10,2) │ decimal(10,2)  │ decimal(10,2) │ decimal(10,2) │ decimal(10,2) │ decimal(10,2) │\n",
      "├──────────┼─────────┼─────────┼─────────┼─────────────┼───────────────┼────────────────┼───────────────┼───────────────┼───────────────┼───────────────┤\n",
      "│ Abc      │ Apple   │ Touch   │ 5G      │ Smart Phone │        100.00 │           NULL │          NULL │          NULL │          NULL │          NULL │\n",
      "│ Abc      │ Asus    │ Touch   │ 4G      │ Smart Phone │        150.00 │           NULL │          NULL │          NULL │          NULL │          NULL │\n",
      "│ Xyz      │ Samsung │ Flip    │ 5G      │ Tablet      │        200.00 │           NULL │          NULL │          NULL │          NULL │          NULL │\n",
      "│ Xyz      │ Redmi   │ Touch   │ 4G      │ Smart Phone │        250.00 │           NULL │          NULL │          NULL │          NULL │          NULL │\n",
      "│ Abc      │ NULL    │ NULL    │ NULL    │ NULL        │          NULL │       44444.00 │          NULL │          NULL │          NULL │          NULL │\n",
      "│ Xyz      │ NULL    │ NULL    │ NULL    │ NULL        │          NULL │       55555.00 │          NULL │          NULL │          NULL │          NULL │\n",
      "│ Abc      │ Apple   │ NULL    │ NULL    │ NULL        │          NULL │           NULL │      77777.00 │          NULL │          NULL │          NULL │\n",
      "│ Xyz      │ Samsung │ NULL    │ NULL    │ NULL        │          NULL │           NULL │      55111.00 │          NULL │          NULL │          NULL │\n",
      "│ Abc      │ Asus    │ NULL    │ NULL    │ NULL        │          NULL │           NULL │      22999.00 │          NULL │          NULL │          NULL │\n",
      "│ Xyz      │ Redmi   │ NULL    │ NULL    │ NULL        │          NULL │           NULL │      11999.00 │          NULL │          NULL │          NULL │\n",
      "│ Abc      │ Apple   │ Touch   │ NULL    │ NULL        │          NULL │           NULL │          NULL │      66666.00 │          NULL │          NULL │\n",
      "│ Xyz      │ Samsung │ Flip    │ NULL    │ NULL        │          NULL │           NULL │          NULL │      33333.00 │          NULL │          NULL │\n",
      "│ Abc      │ Asus    │ Touch   │ NULL    │ NULL        │          NULL │           NULL │          NULL │      22222.00 │          NULL │          NULL │\n",
      "│ Xyz      │ Redmi   │ Touch   │ NULL    │ NULL        │          NULL │           NULL │          NULL │      11111.00 │          NULL │          NULL │\n",
      "│ NULL     │ NULL    │ NULL    │ 4G      │ NULL        │          NULL │           NULL │          NULL │          NULL │      44444.00 │          NULL │\n",
      "│ NULL     │ NULL    │ NULL    │ 5G      │ NULL        │          NULL │           NULL │          NULL │          NULL │      88888.00 │          NULL │\n",
      "│ NULL     │ NULL    │ NULL    │ NULL    │ Smart Phone │          NULL │           NULL │          NULL │          NULL │          NULL │      99999.00 │\n",
      "│ NULL     │ NULL    │ NULL    │ NULL    │ Tablet      │          NULL │           NULL │          NULL │          NULL │          NULL │      33777.00 │\n",
      "├──────────┴─────────┴─────────┴─────────┴─────────────┴───────────────┴────────────────┴───────────────┴───────────────┴───────────────┴───────────────┤\n",
      "│ 18 rows                                                                                                                                    11 columns │\n",
      "└───────────────────────────────────────────────────────────────────────────────────────────────────────────────────────────────────────────────────────┘\n",
      "\n"
     ]
    }
   ],
   "source": [
    "duckdb.sql (\"from union1\").show(max_rows=100)"
   ]
  },
  {
   "cell_type": "markdown",
   "id": "63243c02",
   "metadata": {},
   "source": [
    "### 5. Applying GROUPING_SET clause to get the rollup data at Supplier, Brand, Family, Groups and Category levels and overall report level.\n",
    "\n",
    "### Showing the Problem"
   ]
  },
  {
   "cell_type": "code",
   "execution_count": 65,
   "id": "46639372",
   "metadata": {},
   "outputs": [
    {
     "name": "stdout",
     "output_type": "stream",
     "text": [
      "┌─────────┬──────────┬─────────┬─────────┬─────────┬─────────────┬───────────────┬────────────────┬───────────────┬───────────────┬───────────────┬───────────────┬─────────────┐\n",
      "│ row_num │ supplier │  brand  │ family  │ groups  │  category   │     sales     │ supplier_goals │  brand_goals  │ family_goals  │  group_goals  │   cat_goals   │ grouping_id │\n",
      "│  int64  │ varchar  │ varchar │ varchar │ varchar │   varchar   │ decimal(38,2) │ decimal(38,2)  │ decimal(38,2) │ decimal(38,2) │ decimal(38,2) │ decimal(38,2) │    int64    │\n",
      "├─────────┼──────────┼─────────┼─────────┼─────────┼─────────────┼───────────────┼────────────────┼───────────────┼───────────────┼───────────────┼───────────────┼─────────────┤\n",
      "│       1 │ Abc      │ Apple   │ Touch   │ 5G      │ Smart Phone │        100.00 │           NULL │          NULL │          NULL │          NULL │          NULL │           0 │\n",
      "│       2 │ Abc      │ Apple   │ Touch   │ NULL    │ NULL        │          NULL │           NULL │          NULL │      66666.00 │          NULL │          NULL │           0 │\n",
      "│       3 │ Abc      │ Apple   │ Touch   │ NULL    │ NULL        │        100.00 │           NULL │          NULL │      66666.00 │          NULL │          NULL │           3 │\n",
      "│       4 │ Abc      │ Apple   │ NULL    │ NULL    │ NULL        │          NULL │           NULL │      77777.00 │          NULL │          NULL │          NULL │           3 │\n",
      "│       5 │ Abc      │ Apple   │ NULL    │ NULL    │ NULL        │          NULL │           NULL │      77777.00 │          NULL │          NULL │          NULL │           0 │\n",
      "│       6 │ Abc      │ Apple   │ NULL    │ NULL    │ NULL        │        100.00 │           NULL │      77777.00 │      66666.00 │          NULL │          NULL │           7 │\n",
      "│       7 │ Abc      │ Asus    │ Touch   │ 4G      │ Smart Phone │        150.00 │           NULL │          NULL │          NULL │          NULL │          NULL │           0 │\n",
      "│       8 │ Abc      │ Asus    │ Touch   │ NULL    │ NULL        │          NULL │           NULL │          NULL │      22222.00 │          NULL │          NULL │           0 │\n",
      "│       9 │ Abc      │ Asus    │ Touch   │ NULL    │ NULL        │        150.00 │           NULL │          NULL │      22222.00 │          NULL │          NULL │           3 │\n",
      "│      10 │ Abc      │ Asus    │ NULL    │ NULL    │ NULL        │          NULL │           NULL │      22999.00 │          NULL │          NULL │          NULL │           0 │\n",
      "│      11 │ Abc      │ Asus    │ NULL    │ NULL    │ NULL        │          NULL │           NULL │      22999.00 │          NULL │          NULL │          NULL │           3 │\n",
      "│      12 │ Abc      │ Asus    │ NULL    │ NULL    │ NULL        │        150.00 │           NULL │      22999.00 │      22222.00 │          NULL │          NULL │           7 │\n",
      "│      13 │ Abc      │ NULL    │ NULL    │ NULL    │ NULL        │        250.00 │       44444.00 │     100776.00 │      88888.00 │          NULL │          NULL │          15 │\n",
      "│      14 │ Abc      │ NULL    │ NULL    │ NULL    │ NULL        │          NULL │       44444.00 │          NULL │          NULL │          NULL │          NULL │           0 │\n",
      "│      15 │ Abc      │ NULL    │ NULL    │ NULL    │ NULL        │          NULL │       44444.00 │          NULL │          NULL │          NULL │          NULL │           3 │\n",
      "│      16 │ Abc      │ NULL    │ NULL    │ NULL    │ NULL        │          NULL │       44444.00 │          NULL │          NULL │          NULL │          NULL │           7 │\n",
      "│      17 │ Xyz      │ Redmi   │ Touch   │ 4G      │ Smart Phone │        250.00 │           NULL │          NULL │          NULL │          NULL │          NULL │           0 │\n",
      "│      18 │ Xyz      │ Redmi   │ Touch   │ NULL    │ NULL        │          NULL │           NULL │          NULL │      11111.00 │          NULL │          NULL │           0 │\n",
      "│      19 │ Xyz      │ Redmi   │ Touch   │ NULL    │ NULL        │        250.00 │           NULL │          NULL │      11111.00 │          NULL │          NULL │           3 │\n",
      "│      20 │ Xyz      │ Redmi   │ NULL    │ NULL    │ NULL        │          NULL │           NULL │      11999.00 │          NULL │          NULL │          NULL │           0 │\n",
      "│      21 │ Xyz      │ Redmi   │ NULL    │ NULL    │ NULL        │          NULL │           NULL │      11999.00 │          NULL │          NULL │          NULL │           3 │\n",
      "│      22 │ Xyz      │ Redmi   │ NULL    │ NULL    │ NULL        │        250.00 │           NULL │      11999.00 │      11111.00 │          NULL │          NULL │           7 │\n",
      "│      23 │ Xyz      │ Samsung │ Flip    │ 5G      │ Tablet      │        200.00 │           NULL │          NULL │          NULL │          NULL │          NULL │           0 │\n",
      "│      24 │ Xyz      │ Samsung │ Flip    │ NULL    │ NULL        │          NULL │           NULL │          NULL │      33333.00 │          NULL │          NULL │           0 │\n",
      "│      25 │ Xyz      │ Samsung │ Flip    │ NULL    │ NULL        │        200.00 │           NULL │          NULL │      33333.00 │          NULL │          NULL │           3 │\n",
      "│      26 │ Xyz      │ Samsung │ NULL    │ NULL    │ NULL        │          NULL │           NULL │      55111.00 │          NULL │          NULL │          NULL │           0 │\n",
      "│      27 │ Xyz      │ Samsung │ NULL    │ NULL    │ NULL        │          NULL │           NULL │      55111.00 │          NULL │          NULL │          NULL │           3 │\n",
      "│      28 │ Xyz      │ Samsung │ NULL    │ NULL    │ NULL        │        200.00 │           NULL │      55111.00 │      33333.00 │          NULL │          NULL │           7 │\n",
      "│      29 │ Xyz      │ NULL    │ NULL    │ NULL    │ NULL        │          NULL │       55555.00 │          NULL │          NULL │          NULL │          NULL │           0 │\n",
      "│      30 │ Xyz      │ NULL    │ NULL    │ NULL    │ NULL        │          NULL │       55555.00 │          NULL │          NULL │          NULL │          NULL │           3 │\n",
      "│      31 │ Xyz      │ NULL    │ NULL    │ NULL    │ NULL        │        450.00 │       55555.00 │      67110.00 │      44444.00 │          NULL │          NULL │          15 │\n",
      "│      32 │ Xyz      │ NULL    │ NULL    │ NULL    │ NULL        │          NULL │       55555.00 │          NULL │          NULL │          NULL │          NULL │           7 │\n",
      "│      33 │ NULL     │ NULL    │ NULL    │ 4G      │ NULL        │          NULL │           NULL │          NULL │          NULL │      44444.00 │          NULL │           0 │\n",
      "│      34 │ NULL     │ NULL    │ NULL    │ 4G      │ NULL        │        400.00 │           NULL │          NULL │          NULL │      44444.00 │          NULL │          29 │\n",
      "│      35 │ NULL     │ NULL    │ NULL    │ 5G      │ NULL        │        300.00 │           NULL │          NULL │          NULL │      88888.00 │          NULL │          29 │\n",
      "│      36 │ NULL     │ NULL    │ NULL    │ 5G      │ NULL        │          NULL │           NULL │          NULL │          NULL │      88888.00 │          NULL │           0 │\n",
      "│      37 │ NULL     │ NULL    │ NULL    │ NULL    │ Smart Phone │          NULL │           NULL │          NULL │          NULL │          NULL │      99999.00 │           0 │\n",
      "│      38 │ NULL     │ NULL    │ NULL    │ NULL    │ Smart Phone │        500.00 │           NULL │          NULL │          NULL │          NULL │      99999.00 │          30 │\n",
      "│      39 │ NULL     │ NULL    │ NULL    │ NULL    │ Tablet      │          NULL │           NULL │          NULL │          NULL │          NULL │      33777.00 │           0 │\n",
      "│      40 │ NULL     │ NULL    │ NULL    │ NULL    │ Tablet      │        200.00 │           NULL │          NULL │          NULL │          NULL │      33777.00 │          30 │\n",
      "│      41 │ NULL     │ NULL    │ NULL    │ NULL    │ NULL        │          NULL │           NULL │          NULL │          NULL │     133332.00 │     133776.00 │           3 │\n",
      "│      42 │ NULL     │ NULL    │ NULL    │ NULL    │ NULL        │          NULL │           NULL │          NULL │          NULL │     133332.00 │     133776.00 │           7 │\n",
      "│      43 │ NULL     │ NULL    │ NULL    │ NULL    │ NULL        │          NULL │       99999.00 │     167886.00 │     133332.00 │          NULL │     133776.00 │          29 │\n",
      "│      44 │ NULL     │ NULL    │ NULL    │ NULL    │ NULL        │          NULL │       99999.00 │     167886.00 │     133332.00 │     133332.00 │          NULL │          30 │\n",
      "│      45 │ NULL     │ NULL    │ NULL    │ NULL    │ NULL        │        700.00 │       99999.00 │     167886.00 │     133332.00 │     133332.00 │     133776.00 │          31 │\n",
      "│      46 │ NULL     │ NULL    │ NULL    │ NULL    │ NULL        │          NULL │           NULL │          NULL │          NULL │     133332.00 │     133776.00 │          15 │\n",
      "├─────────┴──────────┴─────────┴─────────┴─────────┴─────────────┴───────────────┴────────────────┴───────────────┴───────────────┴───────────────┴───────────────┴─────────────┤\n",
      "│ 46 rows                                                                                                                                                            13 columns │\n",
      "└───────────────────────────────────────────────────────────────────────────────────────────────────────────────────────────────────────────────────────────────────────────────┘\n",
      "\n"
     ]
    }
   ],
   "source": [
    "duckdb.sql (\"select row_number () over (order by supplier, brand, family, groups, category) \\\n",
    "             as row_num, \\\n",
    "             supplier, brand, family, groups, category, sum(sales) sales, \\\n",
    "             sum (supplier_goals) supplier_goals, sum (brand_goals) brand_goals, sum (family_goals) family_goals, \\\n",
    "             sum (group_goals) group_goals, sum (cat_goals) cat_goals, \\\n",
    "             grouping_id (supplier, brand, family, groups, category) as grouping_id \\\n",
    "             from union1 \\\n",
    "             group by grouping sets ((supplier, brand, family, groups, category), \\\n",
    "             (supplier, brand, family), (supplier, brand), supplier, groups, category, ())\").show(max_rows=100)"
   ]
  },
  {
   "cell_type": "markdown",
   "id": "43f04d1b",
   "metadata": {},
   "source": [
    "### In the above result set, we see the records 2 & 3, they have same dimensional columns ('Abc', 'Apple', 'Touch', Null, Null). This is due to one actual record from the union query and one grouping_set record.\n",
    "\n",
    "### Likewise, there are many duplicate records in the above result set"
   ]
  },
  {
   "cell_type": "markdown",
   "id": "3089b9a3",
   "metadata": {},
   "source": [
    "### 6.Solution Approach\n",
    "\n",
    "#### Using ENUM in the UNION query:\n",
    "\n",
    "We introduce an ENUM column of boolean 0 (for the sales query) and 1 (all other queries) as query_number for each query in the UNION. This query_number column is used to filter the duplicate records at the end. We apply an aggregate function (Minimum) on this query_number column, and apply predicate query_number = 0. So we this will filter out:\n",
    "\n",
    "1. All records from the second query onwards as they have the ENUM valuse as 1\n",
    "2. Grouping sets duplicates as the minimum of 0 & 1 is 0"
   ]
  },
  {
   "cell_type": "code",
   "execution_count": 50,
   "id": "9e606e25",
   "metadata": {},
   "outputs": [],
   "source": [
    "duckdb.sql (\"create or replace table union2 as \\\n",
    "            select 0::boolean as union_query_num, supplier, brand, family, groups, category, sales, null supplier_goals, \\\n",
    "            null brand_goals, null family_goals, null group_goals, null cat_goals from sales \\\n",
    "            union \\\n",
    "            select 1, supplier, NULL brand, NULL as family, NULL as groups, NULL as category, NULL as sales, supplier_goals, \\\n",
    "            NULL as brand_goals, NULL family_goals, null group_goals, null cat_goals from supplier \\\n",
    "            union \\\n",
    "            select 1, supplier, brand, NULL as family, NULL as groups, NULL as category, NULL as sales, NULL as supplier_goals, \\\n",
    "            brand_goals, NULL family_goals, null group_goals, null cat_goals from brand \\\n",
    "            union \\\n",
    "            select 1, supplier, brand, family, NULL as groups, NULL as category, NULL as sales, null as supplier_goals, \\\n",
    "            NULL as brand_goals, family_goals, null group_goals, null cat_goals from family \\\n",
    "            union \\\n",
    "            select 1, null as supplier, null as brand, null as family, groups, NULL as category, NULL as sales, \\\n",
    "            null as supplier_goals, NULL as brand_goals, null as family_goals, group_goals, null cat_goals from groups \\\n",
    "            union \\\n",
    "            select 1, null as supplier, null as brand, null as family, NULL as groups, category, NULL as sales, \\\n",
    "            null as supplier_goals, NULL as brand_goals, null as family_goals, null as group_goals, cat_goals from category\")"
   ]
  },
  {
   "cell_type": "code",
   "execution_count": 51,
   "id": "88c89c16",
   "metadata": {},
   "outputs": [
    {
     "data": {
      "text/plain": [
       "┌─────────────────┬──────────┬─────────┬─────────┬─────────┬─────────────┬───────────────┬────────────────┬───────────────┬───────────────┬───────────────┬───────────────┐\n",
       "│ union_query_num │ supplier │  brand  │ family  │ groups  │  category   │     sales     │ supplier_goals │  brand_goals  │ family_goals  │  group_goals  │   cat_goals   │\n",
       "│      int32      │ varchar  │ varchar │ varchar │ varchar │   varchar   │ decimal(10,2) │ decimal(10,2)  │ decimal(10,2) │ decimal(10,2) │ decimal(10,2) │ decimal(10,2) │\n",
       "├─────────────────┼──────────┼─────────┼─────────┼─────────┼─────────────┼───────────────┼────────────────┼───────────────┼───────────────┼───────────────┼───────────────┤\n",
       "│               1 │ NULL     │ NULL    │ NULL    │ 5G      │ NULL        │          NULL │           NULL │          NULL │          NULL │      88888.00 │          NULL │\n",
       "│               1 │ Xyz      │ Samsung │ Flip    │ NULL    │ NULL        │          NULL │           NULL │          NULL │      33333.00 │          NULL │          NULL │\n",
       "│               1 │ Xyz      │ Samsung │ NULL    │ NULL    │ NULL        │          NULL │           NULL │      55111.00 │          NULL │          NULL │          NULL │\n",
       "│               1 │ Abc      │ Asus    │ NULL    │ NULL    │ NULL        │          NULL │           NULL │      22999.00 │          NULL │          NULL │          NULL │\n",
       "│               0 │ Abc      │ Apple   │ Touch   │ 5G      │ Smart Phone │        100.00 │           NULL │          NULL │          NULL │          NULL │          NULL │\n",
       "│               0 │ Abc      │ Asus    │ Touch   │ 4G      │ Smart Phone │        150.00 │           NULL │          NULL │          NULL │          NULL │          NULL │\n",
       "│               1 │ NULL     │ NULL    │ NULL    │ NULL    │ Smart Phone │          NULL │           NULL │          NULL │          NULL │          NULL │      99999.00 │\n",
       "│               1 │ Xyz      │ Redmi   │ Touch   │ NULL    │ NULL        │          NULL │           NULL │          NULL │      11111.00 │          NULL │          NULL │\n",
       "│               1 │ NULL     │ NULL    │ NULL    │ NULL    │ Tablet      │          NULL │           NULL │          NULL │          NULL │          NULL │      33777.00 │\n",
       "│               1 │ Abc      │ Apple   │ Touch   │ NULL    │ NULL        │          NULL │           NULL │          NULL │      66666.00 │          NULL │          NULL │\n",
       "│               1 │ Abc      │ Apple   │ NULL    │ NULL    │ NULL        │          NULL │           NULL │      77777.00 │          NULL │          NULL │          NULL │\n",
       "│               1 │ Xyz      │ Redmi   │ NULL    │ NULL    │ NULL        │          NULL │           NULL │      11999.00 │          NULL │          NULL │          NULL │\n",
       "│               0 │ Xyz      │ Samsung │ Flip    │ 5G      │ Tablet      │        200.00 │           NULL │          NULL │          NULL │          NULL │          NULL │\n",
       "│               1 │ Abc      │ NULL    │ NULL    │ NULL    │ NULL        │          NULL │       44444.00 │          NULL │          NULL │          NULL │          NULL │\n",
       "│               1 │ Xyz      │ NULL    │ NULL    │ NULL    │ NULL        │          NULL │       55555.00 │          NULL │          NULL │          NULL │          NULL │\n",
       "│               1 │ NULL     │ NULL    │ NULL    │ 4G      │ NULL        │          NULL │           NULL │          NULL │          NULL │      44444.00 │          NULL │\n",
       "│               1 │ Abc      │ Asus    │ Touch   │ NULL    │ NULL        │          NULL │           NULL │          NULL │      22222.00 │          NULL │          NULL │\n",
       "│               0 │ Xyz      │ Redmi   │ Touch   │ 4G      │ Smart Phone │        250.00 │           NULL │          NULL │          NULL │          NULL │          NULL │\n",
       "├─────────────────┴──────────┴─────────┴─────────┴─────────┴─────────────┴───────────────┴────────────────┴───────────────┴───────────────┴───────────────┴───────────────┤\n",
       "│ 18 rows                                                                                                                                                      12 columns │\n",
       "└─────────────────────────────────────────────────────────────────────────────────────────────────────────────────────────────────────────────────────────────────────────┘"
      ]
     },
     "execution_count": 51,
     "metadata": {},
     "output_type": "execute_result"
    }
   ],
   "source": [
    "duckdb.sql (\"from union2\")"
   ]
  },
  {
   "cell_type": "markdown",
   "id": "072913a8",
   "metadata": {},
   "source": [
    "### 7. Applying the GROUPING SETS to the UNION result. At the end of the following query, Filtering the union_query_number = 0 will result only getting sales records from UNION result and removes the duplicates derived through GROUPING SET records."
   ]
  },
  {
   "cell_type": "code",
   "execution_count": 52,
   "id": "1ca4a382",
   "metadata": {
    "scrolled": true
   },
   "outputs": [
    {
     "name": "stdout",
     "output_type": "stream",
     "text": [
      "┌──────────┬─────────┬─────────┬─────────┬─────────────┬───────────────┬────────────────┬───────────────┬───────────────┬───────────────┬───────────────┬────────┐\n",
      "│ supplier │  brand  │ family  │ groups  │  category   │     sales     │ supplier_goals │  brand_goals  │ family_goals  │  group_goals  │   cat_goals   │ level1 │\n",
      "│ varchar  │ varchar │ varchar │ varchar │   varchar   │ decimal(38,2) │ decimal(38,2)  │ decimal(38,2) │ decimal(38,2) │ decimal(38,2) │ decimal(38,2) │ int64  │\n",
      "├──────────┼─────────┼─────────┼─────────┼─────────────┼───────────────┼────────────────┼───────────────┼───────────────┼───────────────┼───────────────┼────────┤\n",
      "│ NULL     │ NULL    │ NULL    │ NULL    │ NULL        │        700.00 │       99999.00 │     167886.00 │     133332.00 │     133332.00 │     133776.00 │     31 │\n",
      "│ NULL     │ NULL    │ NULL    │ NULL    │ Smart Phone │        500.00 │           NULL │          NULL │          NULL │          NULL │      99999.00 │     30 │\n",
      "│ NULL     │ NULL    │ NULL    │ NULL    │ Tablet      │        200.00 │           NULL │          NULL │          NULL │          NULL │      33777.00 │     30 │\n",
      "│ NULL     │ NULL    │ NULL    │ 4G      │ NULL        │        400.00 │           NULL │          NULL │          NULL │      44444.00 │          NULL │     29 │\n",
      "│ NULL     │ NULL    │ NULL    │ 5G      │ NULL        │        300.00 │           NULL │          NULL │          NULL │      88888.00 │          NULL │     29 │\n",
      "│ Abc      │ NULL    │ NULL    │ NULL    │ NULL        │        250.00 │       44444.00 │     100776.00 │      88888.00 │          NULL │          NULL │     15 │\n",
      "│ Abc      │ Apple   │ NULL    │ NULL    │ NULL        │        100.00 │           NULL │      77777.00 │      66666.00 │          NULL │          NULL │      7 │\n",
      "│ Abc      │ Apple   │ Touch   │ NULL    │ NULL        │        100.00 │           NULL │          NULL │      66666.00 │          NULL │          NULL │      3 │\n",
      "│ Abc      │ Apple   │ Touch   │ 5G      │ Smart Phone │        100.00 │           NULL │          NULL │          NULL │          NULL │          NULL │      0 │\n",
      "│ Abc      │ Asus    │ NULL    │ NULL    │ NULL        │        150.00 │           NULL │      22999.00 │      22222.00 │          NULL │          NULL │      7 │\n",
      "│ Abc      │ Asus    │ Touch   │ NULL    │ NULL        │        150.00 │           NULL │          NULL │      22222.00 │          NULL │          NULL │      3 │\n",
      "│ Abc      │ Asus    │ Touch   │ 4G      │ Smart Phone │        150.00 │           NULL │          NULL │          NULL │          NULL │          NULL │      0 │\n",
      "│ Xyz      │ NULL    │ NULL    │ NULL    │ NULL        │        450.00 │       55555.00 │      67110.00 │      44444.00 │          NULL │          NULL │     15 │\n",
      "│ Xyz      │ Redmi   │ NULL    │ NULL    │ NULL        │        250.00 │           NULL │      11999.00 │      11111.00 │          NULL │          NULL │      7 │\n",
      "│ Xyz      │ Redmi   │ Touch   │ NULL    │ NULL        │        250.00 │           NULL │          NULL │      11111.00 │          NULL │          NULL │      3 │\n",
      "│ Xyz      │ Redmi   │ Touch   │ 4G      │ Smart Phone │        250.00 │           NULL │          NULL │          NULL │          NULL │          NULL │      0 │\n",
      "│ Xyz      │ Samsung │ NULL    │ NULL    │ NULL        │        200.00 │           NULL │      55111.00 │      33333.00 │          NULL │          NULL │      7 │\n",
      "│ Xyz      │ Samsung │ Flip    │ NULL    │ NULL        │        200.00 │           NULL │          NULL │      33333.00 │          NULL │          NULL │      3 │\n",
      "│ Xyz      │ Samsung │ Flip    │ 5G      │ Tablet      │        200.00 │           NULL │          NULL │          NULL │          NULL │          NULL │      0 │\n",
      "├──────────┴─────────┴─────────┴─────────┴─────────────┴───────────────┴────────────────┴───────────────┴───────────────┴───────────────┴───────────────┴────────┤\n",
      "│ 19 rows                                                                                                                                             12 columns │\n",
      "└────────────────────────────────────────────────────────────────────────────────────────────────────────────────────────────────────────────────────────────────┘\n",
      "\n"
     ]
    }
   ],
   "source": [
    "duckdb.sql (\"with group_query_3 as \\\n",
    "            (select supplier, brand, family, groups, category, min(union_query_num) leaf_level, \\\n",
    "            sum(sales) sales, sum (supplier_goals) supplier_goals, sum (brand_goals) brand_goals, \\\n",
    "            sum (family_goals) family_goals, sum (group_goals) group_goals, sum (cat_goals) cat_goals, \\\n",
    "            grouping_id (supplier, brand, family, groups, category) level1 \\\n",
    "            from union2 \\\n",
    "            group by grouping sets ((supplier, brand, family, groups, category), (supplier, brand, family), \\\n",
    "            (supplier, brand), supplier, groups, category, ())) \\\n",
    "            select supplier, brand, family, groups, category, sales, supplier_goals, brand_goals, family_goals, \\\n",
    "            group_goals, cat_goals, level1 \\\n",
    "            from group_query_3 where leaf_level = 0 \\\n",
    "            order by ifnull(supplier, '0000'), ifnull (brand, '0000'), ifnull (family, '0000'), \\\n",
    "            ifnull (groups, '0000'), ifnull (category, '0000')\").show(max_rows=100)"
   ]
  },
  {
   "cell_type": "code",
   "execution_count": null,
   "id": "b8f330e9",
   "metadata": {},
   "outputs": [],
   "source": []
  }
 ],
 "metadata": {
  "kernelspec": {
   "display_name": "Python 3 (ipykernel)",
   "language": "python",
   "name": "python3"
  },
  "language_info": {
   "codemirror_mode": {
    "name": "ipython",
    "version": 3
   },
   "file_extension": ".py",
   "mimetype": "text/x-python",
   "name": "python",
   "nbconvert_exporter": "python",
   "pygments_lexer": "ipython3",
   "version": "3.11.5"
  }
 },
 "nbformat": 4,
 "nbformat_minor": 5
}
